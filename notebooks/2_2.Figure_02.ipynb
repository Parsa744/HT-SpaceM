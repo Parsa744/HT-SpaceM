{
 "cells": [
  {
   "cell_type": "code",
   "id": "initial_id",
   "metadata": {
    "collapsed": true,
    "ExecuteTime": {
     "end_time": "2025-04-14T13:47:20.769412Z",
     "start_time": "2025-04-14T13:47:20.748351Z"
    }
   },
   "source": [
    "import pandas as pd\n",
    "from pathlib import Path\n",
    "\n",
    "# Define the data directory\n",
    "data_dir = Path('../data')\n",
    "\n",
    "# Load METASPACE annotation files\n",
    "hmdb_annotations = pd.read_csv(data_dir / '/home/parsa/PycharmProjects/HT-SpaceM/maldi_data/HMDB Metaspace_annotations.csv', sep=',',  comment='#', quotechar='\"')\n",
    "lipidmaps_annotations = pd.read_csv(data_dir / '/home/parsa/PycharmProjects/HT-SpaceM/maldi_data/Lipidmaps Metaspace_annotations.csv', sep=',',  comment='#', quotechar='\"')\n"
   ],
   "outputs": [],
   "execution_count": 44
  },
  {
   "metadata": {
    "ExecuteTime": {
     "end_time": "2025-04-14T13:47:21.336183Z",
     "start_time": "2025-04-14T13:47:21.329324Z"
    }
   },
   "cell_type": "code",
   "source": [
    "# Add a 'Source' column to each DataFrame\n",
    "lipidmaps_annotations['Source'] = 'Lipidmaps'\n",
    "hmdb_annotations['Source'] = 'HMDB'\n",
    "\n",
    "# Combine the DataFrames\n",
    "combined_df = pd.concat([lipidmaps_annotations, hmdb_annotations], ignore_index=True)\n",
    "\n",
    "# Ensure 'fdr' is of type float\n",
    "combined_df['fdr'] = combined_df['fdr'].astype(float)\n"
   ],
   "id": "e3079f724d4a1e0",
   "outputs": [],
   "execution_count": 45
  },
  {
   "metadata": {
    "ExecuteTime": {
     "end_time": "2025-04-14T13:47:22.217397Z",
     "start_time": "2025-04-14T13:47:22.204816Z"
    }
   },
   "cell_type": "code",
   "source": [
    "# Count occurrences of each FDR value\n",
    "fdr_counts = combined_df.groupby(['datasetId', 'Source', 'fdr']).size().unstack(fill_value=0)\n",
    "\n",
    "# Compute cumulative counts\n",
    "fdr_counts['0.05'] = fdr_counts.get(0.05, 0)\n",
    "fdr_counts['0.1'] = fdr_counts['0.05'] + fdr_counts.get(0.1, 0)\n",
    "fdr_counts['0.2'] = fdr_counts['0.1'] + fdr_counts.get(0.2, 0)\n",
    "fdr_counts['0.5'] = fdr_counts['0.2'] + fdr_counts.get(0.5, 0)\n",
    "\n",
    "# Reset index for plotting\n",
    "fdr_counts = fdr_counts.reset_index()\n"
   ],
   "id": "f90c143af7c7b697",
   "outputs": [],
   "execution_count": 46
  },
  {
   "metadata": {
    "ExecuteTime": {
     "end_time": "2025-04-14T13:56:36.104309Z",
     "start_time": "2025-04-14T13:56:35.973480Z"
    }
   },
   "cell_type": "code",
   "source": [
    "filtered = combined_df[combined_df['fdr'] <= 0.5]\n",
    "\n",
    "# Plot\n",
    "plt.figure(figsize=(6, 4))\n",
    "sns.histplot(data=filtered, x='fdr', hue='Source', bins=30, multiple='stack')\n",
    "plt.title('Ion-Level FDR Distribution')\n",
    "plt.xlabel('FDR')\n",
    "plt.ylabel('Ion Count')\n",
    "plt.tight_layout()\n",
    "plt.show()"
   ],
   "id": "7435495d177fecd",
   "outputs": [
    {
     "data": {
      "text/plain": [
       "<Figure size 600x400 with 1 Axes>"
      ],
      "image/png": "[encoded data removed]"
     },
     "metadata": {},
     "output_type": "display_data"
    }
   ],
   "execution_count": 50
  },
  {
   "metadata": {
    "ExecuteTime": {
     "end_time": "2025-04-14T13:01:20.757562Z",
     "start_time": "2025-04-14T13:01:20.750180Z"
    }
   },
   "cell_type": "code",
   "source": [
    "*# Define FDR threshold\n",
    "fdr_threshold = 0.1\n",
    "\n",
    "# Filter annotations\n",
    "hmdb_filtered = hmdb_annotations[hmdb_annotations['fdr'] <= fdr_threshold]\n",
    "lipidmaps_filtered = lipidmaps_annotations[lipidmaps_annotations['fdr'] <= fdr_threshold]\n"
   ],
   "id": "838cae09d9215edd",
   "outputs": [],
   "execution_count": 18
  },
  {
   "metadata": {},
   "cell_type": "code",
   "outputs": [],
   "execution_count": null,
   "source": [
    "# FDR values downloaded from METASPACE project 'Delafiori et al. (2024)'\n",
    "FDR = pd.read_csv(FDR_path)\n",
    "FDR = FDR.astype(str).groupby(['datasetKey', 'CellLine', 'fdr'])['fdr'].count().unstack().fillna(0).astype(int)\n",
    "FDR.columns.name = None\n",
    "\n",
    "#ccomputing cumulative FDR\n",
    "FDR['0.1'] = FDR['0.05'] + FDR['0.1']\n",
    "FDR['0.2'] = FDR['0.1'] + FDR['0.2']\n",
    "FDR['0.5'] = FDR['0.2'] + FDR['0.5']"
   ],
   "id": "a7ca06ecaa10034f"
  },
  {
   "metadata": {
    "ExecuteTime": {
     "end_time": "2025-04-14T13:10:54.198316Z",
     "start_time": "2025-04-14T13:10:53.741797Z"
    }
   },
   "cell_type": "code",
   "source": [
    "#input\n",
    "import seaborn as sns\n",
    "import scanpy as sc\n",
    "\n",
    "data_dir = Path(r'../data')\n",
    "anndata_path = data_dir / 'hfd_4_preprocessed.h5ad'\n",
    "\n",
    "#output\n",
    "plots_path =  Path(r'../') / 'figures' / 'figure_2'\n",
    "plots_path.mkdir(parents=True, exist_ok=True)\n",
    "sc.settings.figdir = plots_path"
   ],
   "id": "cf150079169944d2",
   "outputs": [],
   "execution_count": 22
  },
  {
   "metadata": {
    "ExecuteTime": {
     "end_time": "2025-04-14T13:10:55.128485Z",
     "start_time": "2025-04-14T13:10:54.900229Z"
    }
   },
   "cell_type": "code",
   "source": [
    "#load anndata file\n",
    "adata =  sc.read_h5ad(anndata_path)\n",
    "adata.raw = adata"
   ],
   "id": "7393d1a249168163",
   "outputs": [],
   "execution_count": 23
  },
  {
   "metadata": {
    "ExecuteTime": {
     "end_time": "2025-04-14T13:19:42.725741Z",
     "start_time": "2025-04-14T13:19:42.712305Z"
    }
   },
   "cell_type": "code",
   "source": "adata.obs",
   "id": "856d30128a1c9e61",
   "outputs": [
    {
     "data": {
      "text/plain": [
       "          x   y  z  n_genes\n",
       "px_0      8   1  1      477\n",
       "px_1      9   1  1      523\n",
       "px_2     10   1  1      502\n",
       "px_3     11   1  1      500\n",
       "px_4     12   1  1      553\n",
       "...      ..  .. ..      ...\n",
       "px_8953  66  93  1      535\n",
       "px_8954  67  93  1      568\n",
       "px_8955  68  93  1      579\n",
       "px_8956  69  93  1      543\n",
       "px_8957  70  93  1      589\n",
       "\n",
       "[8958 rows x 4 columns]"
      ],
      "text/html": [
       "<div>\n",
       "<style scoped>\n",
       "    .dataframe tbody tr th:only-of-type {\n",
       "        vertical-align: middle;\n",
       "    }\n",
       "\n",
       "    .dataframe tbody tr th {\n",
       "        vertical-align: top;\n",
       "    }\n",
       "\n",
       "    .dataframe thead th {\n",
       "        text-align: right;\n",
       "    }\n",
       "</style>\n",
       "<table border=\"1\" class=\"dataframe\">\n",
       "  <thead>\n",
       "    <tr style=\"text-align: right;\">\n",
       "      <th></th>\n",
       "      <th>x</th>\n",
       "      <th>y</th>\n",
       "      <th>z</th>\n",
       "      <th>n_genes</th>\n",
       "    </tr>\n",
       "  </thead>\n",
       "  <tbody>\n",
       "    <tr>\n",
       "      <th>px_0</th>\n",
       "      <td>8</td>\n",
       "      <td>1</td>\n",
       "      <td>1</td>\n",
       "      <td>477</td>\n",
       "    </tr>\n",
       "    <tr>\n",
       "      <th>px_1</th>\n",
       "      <td>9</td>\n",
       "      <td>1</td>\n",
       "      <td>1</td>\n",
       "      <td>523</td>\n",
       "    </tr>\n",
       "    <tr>\n",
       "      <th>px_2</th>\n",
       "      <td>10</td>\n",
       "      <td>1</td>\n",
       "      <td>1</td>\n",
       "      <td>502</td>\n",
       "    </tr>\n",
       "    <tr>\n",
       "      <th>px_3</th>\n",
       "      <td>11</td>\n",
       "      <td>1</td>\n",
       "      <td>1</td>\n",
       "      <td>500</td>\n",
       "    </tr>\n",
       "    <tr>\n",
       "      <th>px_4</th>\n",
       "      <td>12</td>\n",
       "      <td>1</td>\n",
       "      <td>1</td>\n",
       "      <td>553</td>\n",
       "    </tr>\n",
       "    <tr>\n",
       "      <th>...</th>\n",
       "      <td>...</td>\n",
       "      <td>...</td>\n",
       "      <td>...</td>\n",
       "      <td>...</td>\n",
       "    </tr>\n",
       "    <tr>\n",
       "      <th>px_8953</th>\n",
       "      <td>66</td>\n",
       "      <td>93</td>\n",
       "      <td>1</td>\n",
       "      <td>535</td>\n",
       "    </tr>\n",
       "    <tr>\n",
       "      <th>px_8954</th>\n",
       "      <td>67</td>\n",
       "      <td>93</td>\n",
       "      <td>1</td>\n",
       "      <td>568</td>\n",
       "    </tr>\n",
       "    <tr>\n",
       "      <th>px_8955</th>\n",
       "      <td>68</td>\n",
       "      <td>93</td>\n",
       "      <td>1</td>\n",
       "      <td>579</td>\n",
       "    </tr>\n",
       "    <tr>\n",
       "      <th>px_8956</th>\n",
       "      <td>69</td>\n",
       "      <td>93</td>\n",
       "      <td>1</td>\n",
       "      <td>543</td>\n",
       "    </tr>\n",
       "    <tr>\n",
       "      <th>px_8957</th>\n",
       "      <td>70</td>\n",
       "      <td>93</td>\n",
       "      <td>1</td>\n",
       "      <td>589</td>\n",
       "    </tr>\n",
       "  </tbody>\n",
       "</table>\n",
       "<p>8958 rows × 4 columns</p>\n",
       "</div>"
      ]
     },
     "execution_count": 30,
     "metadata": {},
     "output_type": "execute_result"
    }
   ],
   "execution_count": 30
  },
  {
   "metadata": {
    "ExecuteTime": {
     "end_time": "2025-04-14T13:20:14.154210Z",
     "start_time": "2025-04-14T13:20:14.042793Z"
    }
   },
   "cell_type": "code",
   "source": [
    "cell_qc, ion_qc = sc.pp.calculate_qc_metrics(adata, percent_top=[135])\n",
    "# the condition column should be in adata.obs\n",
    "condition_column = 'n_genes'\n",
    "# qc table and adata.obs should have the same index\n",
    "cell_qc_joined = pd.merge(adata.obs[[condition_column]], cell_qc, left_index=True, right_index=True)"
   ],
   "id": "7e7a1474d5c57f79",
   "outputs": [],
   "execution_count": 32
  },
  {
   "metadata": {
    "ExecuteTime": {
     "end_time": "2025-04-14T13:21:08.138761Z",
     "start_time": "2025-04-14T13:21:07.929419Z"
    }
   },
   "cell_type": "code",
   "source": [
    "\n",
    "import matplotlib.pyplot as plt\n",
    "\n",
    "# calculate the cutoff percentage of ions present in each cell\n",
    "min_ions1 = 20\n",
    "min_ions2 = 40\n",
    "percent_ions1 = min_ions1 / len(adata.var_names)\n",
    "percent_ions2 = min_ions2 / len(adata.var_names)\n",
    "\n",
    "plt.figure(figsize=(3.5, 4))\n",
    "ax = sns.histplot(data=cell_qc_joined,\n",
    "                  x='n_genes_by_counts',\n",
    "                  bins=20,\n",
    "                  linewidth=0,\n",
    "                  color='black',\n",
    "                  multiple='stack')\n",
    "\n",
    "ax.set_xlabel('Number of ions', fontsize=18)\n",
    "ax.set_ylabel('Number of cells', fontsize=18)\n",
    "ax.tick_params(axis='both', labelsize=14)\n",
    "ax.set_xlim(left=0)\n",
    "sns.despine(offset=0, trim=False, ax=ax)\n",
    "sns.despine(trim=False, ax=ax)\n",
    "\n",
    "# printing the cutoff as a vertical line with relative and absolute cutoff values\n",
    "ax.axvline(x=min_ions1, linestyle=':', c='#CC3333')\n",
    "ax.text(x=min_ions1, y=ax.get_ylim()[1], s=f' {min_ions1}({percent_ions1:.0%})',\n",
    "        fontsize=10, va='top', ha='right', color='#CC3333')\n",
    "ax.axvline(x=min_ions2, linestyle=':', c='#CC3333')\n",
    "ax.text(x=min_ions2, y=ax.get_ylim()[1], s=f' {min_ions2}({percent_ions2:.0%})',\n",
    "        fontsize = 10, va='top', ha='left', color='#CC3333')\n",
    "\n",
    "plt.savefig(plots_path / 'panel_C.png', bbox_inches='tight')\n",
    "plt.savefig(plots_path / 'panel_C.svg', bbox_inches='tight')"
   ],
   "id": "280e3f5ed955269b",
   "outputs": [
    {
     "data": {
      "text/plain": [
       "<Figure size 350x400 with 1 Axes>"
      ],
      "image/png": "[encoded data removed]"
     },
     "metadata": {},
     "output_type": "display_data"
    }
   ],
   "execution_count": 34
  },
  {
   "metadata": {},
   "cell_type": "code",
   "outputs": [],
   "execution_count": null,
   "source": "",
   "id": "d5a839c005b6d3f9"
  }
 ],
 "metadata": {
  "kernelspec": {
   "display_name": "Python 3",
   "language": "python",
   "name": "python3"
  },
  "language_info": {
   "codemirror_mode": {
    "name": "ipython",
    "version": 2
   },
   "file_extension": ".py",
   "mimetype": "text/x-python",
   "name": "python",
   "nbconvert_exporter": "python",
   "pygments_lexer": "ipython2",
   "version": "2.7.6"
  }
 },
 "nbformat": 4,
 "nbformat_minor": 5
}
