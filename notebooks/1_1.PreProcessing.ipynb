{
 "cells": [
  {
   "cell_type": "code",
   "id": "initial_id",
   "metadata": {
    "collapsed": true,
    "ExecuteTime": {
     "end_time": "2025-04-14T08:48:05.063599Z",
     "start_time": "2025-04-14T08:48:01.219881Z"
    }
   },
   "source": [
    "from pyimzml.ImzMLParser import ImzMLParser\n",
    "from pathlib import Path\n",
    "import pandas as pd\n",
    "import numpy as np\n",
    "import scanpy as sc\n",
    "import anndata as ad\n",
    "from tqdm import tqdm\n",
    "\n",
    "# --- File path ---\n",
    "data_dir = Path(\"../data\")\n",
    "imzml_path = data_dir / \"/home/parsa/PycharmProjects/HT-SpaceM/maldi_data/imzML_data/hfd_4.imzML\"  # <-- Change this to your file\n",
    "\n",
    "# --- Load imzML ---\n",
    "parser = ImzMLParser(imzml_path)\n",
    "\n",
    "# --- Build coordinate metadata ---\n",
    "coords = np.array(parser.coordinates)\n",
    "obs = pd.DataFrame(coords, columns=[\"x\", \"y\", \"z\"])\n",
    "obs.index = [f\"px_{i}\" for i in range(len(coords))]\n",
    "\n",
    "# --- Bin m/z values ---\n",
    "min_mz = 100\n",
    "max_mz = 1000\n",
    "bin_size = 1.0\n",
    "bins = np.arange(min_mz, max_mz, bin_size)\n",
    "var = pd.DataFrame({\"m/z_bin\": bins})\n",
    "var.index = [f\"mz_{i}\" for i in range(len(bins))]\n",
    "\n",
    "X = np.zeros((len(parser.coordinates), len(bins)))\n",
    "\n",
    "for i, coord in tqdm(enumerate(parser.coordinates), total=len(parser.coordinates)):\n",
    "    mzs, intensities = parser.getspectrum(i)\n",
    "    mzs = np.array(mzs)\n",
    "    intensities = np.array(intensities)\n",
    "    bin_indices = np.floor((mzs - min_mz) / bin_size).astype(int)\n",
    "    mask = (bin_indices >= 0) & (bin_indices < len(bins))\n",
    "    for idx, val in zip(bin_indices[mask], intensities[mask]):\n",
    "        X[i, idx] += val\n",
    "\n",
    "# --- Create AnnData ---\n",
    "adata = ad.AnnData(X=X, obs=obs, var=var)\n",
    "adata.layers[\"counts\"] = adata.X.copy()\n",
    "\n",
    "# --- Filter cells/ions ---\n",
    "sc.pp.filter_cells(adata, min_genes=10)\n",
    "sc.pp.filter_genes(adata, min_cells=50)\n",
    "\n",
    "# --- Normalize & log-transform ---\n",
    "sc.pp.normalize_total(adata, target_sum=10000, exclude_highly_expressed=True, max_fraction=0.05)\n",
    "adata.layers[\"norm_counts\"] = adata.X.copy()\n",
    "sc.pp.log1p(adata)\n",
    "adata.layers[\"log1p\"] = adata.X.copy()\n",
    "adata.raw = adata\n",
    "\n",
    "# --- Save for scanpy ---\n",
    "adata.write(data_dir / \"hfd_4_preprocessed.h5ad\")\n"
   ],
   "outputs": [
    {
     "name": "stderr",
     "output_type": "stream",
     "text": [
      "/home/parsa/anaconda3/envs/HTSpaceM/lib/python3.13/site-packages/pyimzml/ontology/ontology.py:92: UserWarning: Accession IMS:1000046 found with incorrect name \"pixel size x\". Updating name to \"pixel size (x)\".\n",
      "  warn(\n",
      "100%|██████████| 8958/8958 [00:02<00:00, 3069.23it/s]\n"
     ]
    }
   ],
   "execution_count": 5
  },
  {
   "metadata": {},
   "cell_type": "code",
   "outputs": [],
   "execution_count": null,
   "source": "",
   "id": "b23d2c5e320fe6f3"
  }
 ],
 "metadata": {
  "kernelspec": {
   "display_name": "Python 3",
   "language": "python",
   "name": "python3"
  },
  "language_info": {
   "codemirror_mode": {
    "name": "ipython",
    "version": 2
   },
   "file_extension": ".py",
   "mimetype": "text/x-python",
   "name": "python",
   "nbconvert_exporter": "python",
   "pygments_lexer": "ipython2",
   "version": "2.7.6"
  }
 },
 "nbformat": 4,
 "nbformat_minor": 5
}
