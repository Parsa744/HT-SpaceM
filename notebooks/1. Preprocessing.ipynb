{
 "cells": [
  {
   "cell_type": "markdown",
   "id": "2a2a32a5-8a7b-4135-a312-ee194d72fa81",
   "metadata": {},
   "source": [
    "# 1. Preprocessing analysis"
   ]
  },
  {
   "cell_type": "markdown",
   "id": "c1eeaaf7-bcc1-4023-bfe8-161b46f04742",
   "metadata": {},
   "source": [
    "This notebook is used to preprocess single-cell data:\n",
    "- SC1: HeLa and NIH3T3 cells experiment\n",
    "- SC2: 10 cell lines from NCI-60 cell panel (A498, BT-549, HOP-62, HS 578T, HT29, HeLa, IGR-OV1, MALME-3M, NCI-H460, and OVCAR-5') and HeLa cells"
   ]
  },
  {
   "cell_type": "markdown",
   "id": "55251fff-8e6b-4cb6-94e8-72f719779d45",
   "metadata": {},
   "source": [
    "Before starting, download data available at Metabolights [www.ebi.ac.uk/metabolights/MTBLS11236], study identifier MTBLS11236 and move to data folder.\n",
    "- SC1_raw.h5ad - Single-cell data\n",
    "- SC2_raw.h5ad - Single-cell data\n",
    "- SC1_custom_database.tsv - Ions from custom database\n",
    "- SC2_custom_database.tsv - Ions from custom database"
   ]
  },
  {
   "cell_type": "code",
   "execution_count": 1,
   "id": "614c0094-2f6d-4352-ac99-d96ebf9c094c",
   "metadata": {},
   "outputs": [],
   "source": [
    "from pathlib import Path\n",
    "\n",
    "import seaborn as sns\n",
    "import matplotlib.pyplot as plt\n",
    "import numpy as np\n",
    "import pandas as pd\n",
    "import scanpy as sc\n",
    "from anndata import read_h5ad"
   ]
  },
  {
   "cell_type": "markdown",
   "id": "a6a4a678-d781-4e5a-b045-0e57e07c12a5",
   "metadata": {},
   "source": [
    "## Set paths"
   ]
  },
  {
   "cell_type": "code",
   "execution_count": 2,
   "id": "cf34d9ee-6d12-4095-bc38-fb3418d98d86",
   "metadata": {},
   "outputs": [],
   "source": [
    "#input\n",
    "data_dir = Path(r'../data')\n",
    "\n",
    "SC1_path = data_dir / 'SC1_raw.h5ad'\n",
    "SC2_path = data_dir / 'SC2_raw.h5ad'\n",
    "\n",
    "custom1_path = data_dir / 'SC1_custom_database.tsv'\n",
    "custom2_path = data_dir / 'SC2_custom_database.tsv'\n",
    "\n",
    "#output\n",
    "data_path =  Path(r'../data')\n",
    "data_path.mkdir(parents=True, exist_ok=True)\n",
    "sc.settings.figdir = data_path"
   ]
  },
  {
   "cell_type": "markdown",
   "id": "24dc070b-02e6-49f0-844b-7925160927ea",
   "metadata": {},
   "source": [
    "## SC1"
   ]
  },
  {
   "cell_type": "markdown",
   "id": "d33440b2-2e32-4e76-a429-c9ece2320d06",
   "metadata": {},
   "source": [
    "### Load data"
   ]
  },
  {
   "cell_type": "code",
   "execution_count": 3,
   "id": "a586bbcd-0065-4106-b30c-254fc42ee124",
   "metadata": {},
   "outputs": [],
   "source": [
    "#load anndata file\n",
    "adata =  sc.read_h5ad(SC1_path)\n",
    "adata.raw = adata\n",
    "\n",
    "#load custom database\n",
    "database = pd.read_csv(custom1_path, sep='\\t', header=0) \n",
    "database_filt = database['formula']"
   ]
  },
  {
   "cell_type": "markdown",
   "id": "a22a7948-800c-445f-ab30-7b8c32d159a0",
   "metadata": {},
   "source": [
    "### Filtering"
   ]
  },
  {
   "cell_type": "code",
   "execution_count": 4,
   "id": "7fe46064-ccdb-4bfc-b8b2-302680c7b48f",
   "metadata": {},
   "outputs": [
    {
     "name": "stdout",
     "output_type": "stream",
     "text": [
      "Before filtering: Cell 78503 Ions 236\n",
      "Custom filtering: Cell 78503 Ions 234\n",
      "Adducts filtering: Cell 78503 Ions 135\n"
     ]
    },
    {
     "name": "stderr",
     "output_type": "stream",
     "text": [
      "/Users/jeanydelafiori/Apps/miniconda3/envs/spacem_analysis/lib/python3.12/site-packages/scanpy/preprocessing/_simple.py:167: ImplicitModificationWarning: Trying to modify attribute `.obs` of view, initializing view as actual.\n",
      "  adata.obs[\"n_genes\"] = number\n"
     ]
    },
    {
     "name": "stdout",
     "output_type": "stream",
     "text": [
      "Cell/Gene filtering: Cell 78500 Ions 135\n"
     ]
    }
   ],
   "source": [
    "print('Before filtering: Cell', adata.shape[0], 'Ions', adata.shape[1])\n",
    "      \n",
    "#CustomDB\n",
    "adata = adata[:, adata.var['formula-0'].isin(database_filt)]\n",
    "print('Custom filtering: Cell', adata.shape[0], 'Ions', adata.shape[1])\n",
    "      \n",
    "#Adducts\n",
    "adata = adata[:, (adata.var[\"adduct\"] == '-H')]\n",
    "print('Adducts filtering: Cell', adata.shape[0], 'Ions', adata.shape[1])\n",
    "\n",
    "#Min cells and genes\n",
    "sc.pp.filter_cells(adata, min_genes = 10)\n",
    "sc.pp.filter_genes(adata, min_cells = 50)\n",
    "print('Cell/Gene filtering: Cell', adata.shape[0], 'Ions', adata.shape[1])\n",
    "\n",
    "#saving\n",
    "adata.write(data_path / 'SC1_filtered.h5ad')"
   ]
  },
  {
   "cell_type": "markdown",
   "id": "fd3f0b73-4a63-4c0d-8088-f68a9c499ca7",
   "metadata": {},
   "source": [
    "### Normalization"
   ]
  },
  {
   "cell_type": "code",
   "execution_count": 5,
   "id": "c4a822c9-a651-4e1d-9d45-768aafe6c300",
   "metadata": {},
   "outputs": [
    {
     "name": "stderr",
     "output_type": "stream",
     "text": [
      "/Users/jeanydelafiori/Apps/miniconda3/envs/spacem_analysis/lib/python3.12/site-packages/scanpy/preprocessing/_normalization.py:234: UserWarning: Some cells have zero counts\n",
      "  warn(UserWarning(\"Some cells have zero counts\"))\n"
     ]
    }
   ],
   "source": [
    "#raw counts\n",
    "adata.layers[\"counts\"] = adata.X.copy() # keep raw values for diff. analysis\n",
    "\n",
    "#normalized counts\n",
    "sc.pp.normalize_total(adata, target_sum=10000, exclude_highly_expressed =True, max_fraction = 0.05)\n",
    "adata.layers[\"norm_counts\"] = adata.X.copy()\n",
    "\n",
    "#log transformation\n",
    "sc.pp.log1p(adata)\n",
    "adata.layers[\"log1p\"] = adata.X.copy()\n",
    "\n",
    "adata.raw = adata\n",
    "\n",
    "#saving\n",
    "adata.write(data_dir / 'SC1_normalized.h5ad')"
   ]
  },
  {
   "cell_type": "markdown",
   "id": "b6202d07-376c-4077-8b59-04165f49d039",
   "metadata": {},
   "source": [
    "## SC2"
   ]
  },
  {
   "cell_type": "markdown",
   "id": "80987639-b2db-4ec6-b1d4-60a8070d8412",
   "metadata": {},
   "source": [
    "### Load data"
   ]
  },
  {
   "cell_type": "code",
   "execution_count": 6,
   "id": "c3c9fcf5-0625-4291-97bc-00063f59712a",
   "metadata": {},
   "outputs": [],
   "source": [
    "#load anndata file\n",
    "adata =  sc.read_h5ad(SC2_path)\n",
    "adata.raw = adata\n",
    "\n",
    "#load custom database\n",
    "database = pd.read_csv(custom2_path, sep='\\t', header=0) \n",
    "database_filt = database['formula']"
   ]
  },
  {
   "cell_type": "markdown",
   "id": "4eb70dc6-a8b3-4797-a1a7-c8deb2069b27",
   "metadata": {},
   "source": [
    "### Filtering"
   ]
  },
  {
   "cell_type": "code",
   "execution_count": 7,
   "id": "b492b252-0c6e-4579-9e87-35bcd47bbdcc",
   "metadata": {},
   "outputs": [
    {
     "name": "stdout",
     "output_type": "stream",
     "text": [
      "Before filtering: Cell 42153 Ions 436\n",
      "Custom filtering: Cell 42153 Ions 344\n",
      "Adducts filtering: Cell 42153 Ions 202\n",
      "Cell/Gene filtering: Cell 42153 Ions 202\n"
     ]
    },
    {
     "name": "stderr",
     "output_type": "stream",
     "text": [
      "/Users/jeanydelafiori/Apps/miniconda3/envs/spacem_analysis/lib/python3.12/site-packages/scanpy/preprocessing/_simple.py:167: ImplicitModificationWarning: Trying to modify attribute `.obs` of view, initializing view as actual.\n",
      "  adata.obs[\"n_genes\"] = number\n"
     ]
    }
   ],
   "source": [
    "print('Before filtering: Cell', adata.shape[0], 'Ions', adata.shape[1])\n",
    "      \n",
    "#CustomDB\n",
    "adata = adata[:, adata.var['formula-0'].isin(database_filt)]\n",
    "print('Custom filtering: Cell', adata.shape[0], 'Ions', adata.shape[1])\n",
    "\n",
    "#Adducts\n",
    "adata = adata[:, (adata.var[\"adduct\"] == '-H')]\n",
    "print('Adducts filtering: Cell', adata.shape[0], 'Ions', adata.shape[1])\n",
    "\n",
    "#Min cells and genes\n",
    "sc.pp.filter_cells(adata, min_genes = 20)\n",
    "sc.pp.filter_genes(adata, min_cells = 50)\n",
    "print('Cell/Gene filtering: Cell', adata.shape[0], 'Ions', adata.shape[1])\n",
    "\n",
    "#saving\n",
    "adata.write(data_path / 'SC2_filtered.h5ad')"
   ]
  },
  {
   "cell_type": "markdown",
   "id": "0d7807db-4924-490c-b228-74bdc021db77",
   "metadata": {},
   "source": [
    "### Normalization"
   ]
  },
  {
   "cell_type": "code",
   "execution_count": 8,
   "id": "8e8b3dcb-51d6-4836-bd6f-281d18d645d3",
   "metadata": {},
   "outputs": [],
   "source": [
    "#raw counts\n",
    "adata.layers[\"counts\"] = adata.X.copy() # keep raw values for diff. analysis\n",
    "\n",
    "#normalized counts\n",
    "sc.pp.normalize_total(adata, target_sum=10000, exclude_highly_expressed =True, max_fraction = 0.05)\n",
    "adata.layers[\"norm_counts\"] = adata.X.copy()\n",
    "\n",
    "#log transformation\n",
    "sc.pp.log1p(adata)\n",
    "adata.layers[\"log1p\"] = adata.X.copy()\n",
    "\n",
    "adata.raw = adata\n",
    "\n",
    "#saving\n",
    "adata.write(data_dir / 'SC2_normalized.h5ad')"
   ]
  }
 ],
 "metadata": {
  "kernelspec": {
   "display_name": "Python 3 (ipykernel)",
   "language": "python",
   "name": "python3"
  },
  "language_info": {
   "codemirror_mode": {
    "name": "ipython",
    "version": 3
   },
   "file_extension": ".py",
   "mimetype": "text/x-python",
   "name": "python",
   "nbconvert_exporter": "python",
   "pygments_lexer": "ipython3",
   "version": "3.12.7"
  }
 },
 "nbformat": 4,
 "nbformat_minor": 5
}
